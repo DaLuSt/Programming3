{
 "cells": [
  {
   "cell_type": "markdown",
   "metadata": {},
   "source": [
    "The goal of this assignment is to get used to programmatically querying NCBI.\n",
    "You will need to use the Biopython Querying facilities (see: Chapter 9 Biopython Tutorial) to download the XML data for 10 articles.\n",
    "NB: To do this succesfully, be sure to make an NCBI account and set up API tokens!\n",
    "See: New API keys Rate-limit your script to below the required requests per second using time.sleep() if necessary.\n",
    "(May require some experimentation.)\n",
    "\n",
    "A script that downloads 10 articles from PubMed using the Biopython API.\n",
    "\n",
    "Your script needs to be called \"assignment1.py\" in the \"Assignment1\" folder of your \"Programming2\" Bitbucket repo.\n",
    "The only command-line argument you need is a query (PubMed ID) to ask Entrez about an article.\n",
    "Your script should then download 10 articles cited by this one _concurrently_ using the multiprocessing.Pool() and map() constructs! The articles should be saved as PUBMED_ID.xml in the directory \"output\" in the directory your script is run from."
   ]
  },
  {
   "cell_type": "code",
   "execution_count": 83,
   "metadata": {},
   "outputs": [],
   "source": [
    "# import needed packages\n",
    "import sys\n",
    "import Bio\n",
    "from Bio import Entrez\n",
    "from Bio import Medline\n",
    "import multiprocessing\n"
   ]
  },
  {
   "cell_type": "code",
   "execution_count": null,
   "metadata": {},
   "outputs": [],
   "source": [
    "multiprocessing.Pool(processes=4)"
   ]
  },
  {
   "cell_type": "code",
   "execution_count": 97,
   "metadata": {},
   "outputs": [
    {
     "data": {
      "text/plain": [
       "['9047029',\n",
       " '9007843',\n",
       " '8944180',\n",
       " '8900724',\n",
       " '8900470',\n",
       " '8886176',\n",
       " '8860903',\n",
       " '8832600',\n",
       " '8822421',\n",
       " '8767730']"
      ]
     },
     "execution_count": 97,
     "metadata": {},
     "output_type": "execute_result"
    }
   ],
   "source": [
    "# get the pmid of refrences from a single pmid\n",
    "pmid = '30049270'\n",
    "\n",
    "def get_citations(pmid):\n",
    "    Entrez.email = \"dalust1997@gmail.com\"\n",
    "    results = Entrez.read(Entrez.elink(dbfrom=\"pubmed\",\n",
    "                                    db=\"pmc\",\n",
    "                                    LinkName=\"pubmed_pmc_refs\",\n",
    "                                    id=pmid,\n",
    "                                    api_key='5465528a46551838834940b5006829e8e307'))\n",
    "    references = [f'{link[\"Id\"]}' for link in results[0][\"LinkSetDb\"][0][\"Link\"]]\n",
    "    references = references[:10]\n",
    "    return references\n",
    "\n",
    "get_citations(pmid)\n"
   ]
  },
  {
   "cell_type": "code",
   "execution_count": 98,
   "metadata": {},
   "outputs": [],
   "source": [
    "# Script that downloads (default) 10 articles referenced by the given PubMed ID concurrently.\n",
    "def download_pmids(pmid):\n",
    "    pmids = list(get_citations(pmid))\n",
    "    for pmid in pmids:\n",
    "        handle = Entrez.efetch(db=\"pmc\", id=pmid, rettype=\"XML\", retmode=\"text\",\n",
    "                               api_key='5465528a46551838834940b5006829e8e307')\n",
    "    \n",
    "        with open(f'output/{pmid}.xml', 'wb') as file:\n",
    "            file.write(handle.read())\n",
    "            \n",
    "download_pmids(pmid)\n",
    "\n",
    "    \n"
   ]
  },
  {
   "cell_type": "code",
   "execution_count": 6,
   "metadata": {},
   "outputs": [],
   "source": [
    "import os\n",
    "def create_dir(dir_name):\n",
    "    if not os.path.exists(dir_name):\n",
    "        os.makedirs(dir_name)\n",
    "    \n",
    "create_dir('output')"
   ]
  },
  {
   "cell_type": "code",
   "execution_count": null,
   "metadata": {},
   "outputs": [],
   "source": [
    "\n",
    "\n",
    "    "
   ]
  }
 ],
 "metadata": {
  "interpreter": {
   "hash": "ad2bdc8ecc057115af97d19610ffacc2b4e99fae6737bb82f5d7fb13d2f2c186"
  },
  "kernelspec": {
   "display_name": "Python 3.8.12 ('base')",
   "language": "python",
   "name": "python3"
  },
  "language_info": {
   "codemirror_mode": {
    "name": "ipython",
    "version": 3
   },
   "file_extension": ".py",
   "mimetype": "text/x-python",
   "name": "python",
   "nbconvert_exporter": "python",
   "pygments_lexer": "ipython3",
   "version": "3.8.12"
  },
  "orig_nbformat": 4
 },
 "nbformat": 4,
 "nbformat_minor": 2
}
