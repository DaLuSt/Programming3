{
 "cells": [
  {
   "cell_type": "markdown",
   "metadata": {},
   "source": [
    "The goal of this assignment is to get used to programmatically querying NCBI.\n",
    "You will need to use the Biopython Querying facilities (see: Chapter 9 Biopython Tutorial) to download the XML data for 10 articles.\n",
    "NB: To do this succesfully, be sure to make an NCBI account and set up API tokens!\n",
    "See: New API keys Rate-limit your script to below the required requests per second using time.sleep() if necessary.\n",
    "(May require some experimentation.)\n",
    "\n",
    "A script that downloads 10 articles from PubMed using the Biopython API.\n",
    "\n",
    "Your script needs to be called \"assignment1.py\" in the \"Assignment1\" folder of your \"Programming2\" Bitbucket repo.\n",
    "The only command-line argument you need is a query (PubMed ID) to ask Entrez about an article.\n",
    "Your script should then download 10 articles cited by this one _concurrently_ using the multiprocessing.Pool() and map() constructs! The articles should be saved as PUBMED_ID.xml in the directory \"output\" in the directory your script is run from."
   ]
  },
  {
   "cell_type": "code",
   "execution_count": 5,
   "metadata": {},
   "outputs": [],
   "source": [
    "# import needed packages\n",
    "import sys\n",
    "import Bio\n",
    "from Bio import Entrez\n",
    "from Bio import Medline"
   ]
  },
  {
   "cell_type": "code",
   "execution_count": 8,
   "metadata": {},
   "outputs": [
    {
     "ename": "AttributeError",
     "evalue": "'generator' object has no attribute 'next'",
     "output_type": "error",
     "traceback": [
      "\u001b[1;31m---------------------------------------------------------------------------\u001b[0m",
      "\u001b[1;31mAttributeError\u001b[0m                            Traceback (most recent call last)",
      "\u001b[1;32mc:\\Users\\31613\\Desktop\\Git repositories\\Programming3\\Assignment1\\testing_file.ipynb Cell 3'\u001b[0m in \u001b[0;36m<cell line: 22>\u001b[1;34m()\u001b[0m\n\u001b[0;32m     <a href='vscode-notebook-cell:/c%3A/Users/31613/Desktop/Git%20repositories/Programming3/Assignment1/testing_file.ipynb#ch0000001?line=17'>18</a>\u001b[0m             cites_list\u001b[39m.\u001b[39mappend(\u001b[39mstr\u001b[39m(ref[\u001b[39m'\u001b[39m\u001b[39mPMID\u001b[39m\u001b[39m'\u001b[39m]))\n\u001b[0;32m     <a href='vscode-notebook-cell:/c%3A/Users/31613/Desktop/Git%20repositories/Programming3/Assignment1/testing_file.ipynb#ch0000001?line=18'>19</a>\u001b[0m     \u001b[39mreturn\u001b[39;00m cites_list\n\u001b[1;32m---> <a href='vscode-notebook-cell:/c%3A/Users/31613/Desktop/Git%20repositories/Programming3/Assignment1/testing_file.ipynb#ch0000001?line=21'>22</a>\u001b[0m get_pubmed_cit(pmid)\n",
      "\u001b[1;32mc:\\Users\\31613\\Desktop\\Git repositories\\Programming3\\Assignment1\\testing_file.ipynb Cell 3'\u001b[0m in \u001b[0;36mget_pubmed_cit\u001b[1;34m(pmid)\u001b[0m\n\u001b[0;32m     <a href='vscode-notebook-cell:/c%3A/Users/31613/Desktop/Git%20repositories/Programming3/Assignment1/testing_file.ipynb#ch0000001?line=12'>13</a>\u001b[0m cites_list \u001b[39m=\u001b[39m []\n\u001b[0;32m     <a href='vscode-notebook-cell:/c%3A/Users/31613/Desktop/Git%20repositories/Programming3/Assignment1/testing_file.ipynb#ch0000001?line=13'>14</a>\u001b[0m handle \u001b[39m=\u001b[39m Entrez\u001b[39m.\u001b[39mefetch(\u001b[39m\"\u001b[39m\u001b[39mpubmed\u001b[39m\u001b[39m\"\u001b[39m, \u001b[39mid\u001b[39m\u001b[39m=\u001b[39mpmid, retmode\u001b[39m=\u001b[39m\u001b[39m\"\u001b[39m\u001b[39mxml\u001b[39m\u001b[39m\"\u001b[39m)\n\u001b[1;32m---> <a href='vscode-notebook-cell:/c%3A/Users/31613/Desktop/Git%20repositories/Programming3/Assignment1/testing_file.ipynb#ch0000001?line=14'>15</a>\u001b[0m pubmed_rec \u001b[39m=\u001b[39m Entrez\u001b[39m.\u001b[39;49mparse(handle)\u001b[39m.\u001b[39;49mnext()\n\u001b[0;32m     <a href='vscode-notebook-cell:/c%3A/Users/31613/Desktop/Git%20repositories/Programming3/Assignment1/testing_file.ipynb#ch0000001?line=15'>16</a>\u001b[0m \u001b[39mfor\u001b[39;00m ref \u001b[39min\u001b[39;00m pubmed_rec[\u001b[39m'\u001b[39m\u001b[39mMedlineCitation\u001b[39m\u001b[39m'\u001b[39m][\u001b[39m'\u001b[39m\u001b[39mCommentsCorrectionsList\u001b[39m\u001b[39m'\u001b[39m]:\n\u001b[0;32m     <a href='vscode-notebook-cell:/c%3A/Users/31613/Desktop/Git%20repositories/Programming3/Assignment1/testing_file.ipynb#ch0000001?line=16'>17</a>\u001b[0m     \u001b[39mif\u001b[39;00m ref\u001b[39m.\u001b[39mattributes[\u001b[39m'\u001b[39m\u001b[39mRefType\u001b[39m\u001b[39m'\u001b[39m] \u001b[39m==\u001b[39m \u001b[39m'\u001b[39m\u001b[39mCites\u001b[39m\u001b[39m'\u001b[39m:\n",
      "\u001b[1;31mAttributeError\u001b[0m: 'generator' object has no attribute 'next'"
     ]
    }
   ],
   "source": [
    "# get the pmid of refrences from a single pmid\n",
    "\n",
    "api_key = \"5465528a46551838834940b5006829e8e307\"\n",
    "Entrez.api_key = api_key\n",
    "\n",
    "Entrez.email = \"dalust1997@gmail.com\"\n",
    "pmid = \"35512704\"\n",
    "\n",
    "def get_pubmed_cit(pmid):\n",
    "    \"\"\"\n",
    "    Returns the pmids of the papers this paper cites\n",
    "    \"\"\"\n",
    "    cites_list = []\n",
    "    handle = Entrez.efetch(\"pubmed\", id=pmid, retmode=\"xml\")\n",
    "    pubmed_rec = Entrez.parse(handle).next()\n",
    "    for ref in pubmed_rec['MedlineCitation']['CommentsCorrectionsList']:\n",
    "        if ref.attributes['RefType'] == 'Cites':\n",
    "            cites_list.append(str(ref['PMID']))\n",
    "    return cites_list\n",
    "\n",
    "\n",
    "get_pubmed_cit(pmid)\n"
   ]
  },
  {
   "cell_type": "code",
   "execution_count": 10,
   "metadata": {},
   "outputs": [
    {
     "ename": "ModuleNotFoundError",
     "evalue": "No module named 'metapub'",
     "output_type": "error",
     "traceback": [
      "\u001b[1;31m---------------------------------------------------------------------------\u001b[0m",
      "\u001b[1;31mModuleNotFoundError\u001b[0m                       Traceback (most recent call last)",
      "\u001b[1;32mc:\\Users\\31613\\Desktop\\Git repositories\\Programming3\\Assignment1\\testing_file.ipynb Cell 4'\u001b[0m in \u001b[0;36m<cell line: 1>\u001b[1;34m()\u001b[0m\n\u001b[1;32m----> <a href='vscode-notebook-cell:/c%3A/Users/31613/Desktop/Git%20repositories/Programming3/Assignment1/testing_file.ipynb#ch0000007?line=0'>1</a>\u001b[0m \u001b[39mfrom\u001b[39;00m \u001b[39mmetapub\u001b[39;00m \u001b[39mimport\u001b[39;00m PubMedFetcher\n\u001b[0;32m      <a href='vscode-notebook-cell:/c%3A/Users/31613/Desktop/Git%20repositories/Programming3/Assignment1/testing_file.ipynb#ch0000007?line=1'>2</a>\u001b[0m pmids \u001b[39m=\u001b[39m [\u001b[39m2020202\u001b[39m]\n\u001b[0;32m      <a href='vscode-notebook-cell:/c%3A/Users/31613/Desktop/Git%20repositories/Programming3/Assignment1/testing_file.ipynb#ch0000007?line=2'>3</a>\u001b[0m fetch \u001b[39m=\u001b[39m PubMedFetcher()\n",
      "\u001b[1;31mModuleNotFoundError\u001b[0m: No module named 'metapub'"
     ]
    }
   ],
   "source": []
  },
  {
   "cell_type": "code",
   "execution_count": 11,
   "metadata": {},
   "outputs": [
    {
     "ename": "ModuleNotFoundError",
     "evalue": "No module named 'metapub'",
     "output_type": "error",
     "traceback": [
      "\u001b[1;31m---------------------------------------------------------------------------\u001b[0m",
      "\u001b[1;31mModuleNotFoundError\u001b[0m                       Traceback (most recent call last)",
      "\u001b[1;32mc:\\Users\\31613\\Desktop\\Git repositories\\Programming3\\Assignment1\\testing_file.ipynb Cell 5'\u001b[0m in \u001b[0;36m<cell line: 2>\u001b[1;34m()\u001b[0m\n\u001b[0;32m      <a href='vscode-notebook-cell:/c%3A/Users/31613/Desktop/Git%20repositories/Programming3/Assignment1/testing_file.ipynb#ch0000004?line=0'>1</a>\u001b[0m \u001b[39m# doaload the first 10 papers from the list of pmid\u001b[39;00m\n\u001b[1;32m----> <a href='vscode-notebook-cell:/c%3A/Users/31613/Desktop/Git%20repositories/Programming3/Assignment1/testing_file.ipynb#ch0000004?line=1'>2</a>\u001b[0m \u001b[39mfrom\u001b[39;00m \u001b[39mmetapub\u001b[39;00m \u001b[39mimport\u001b[39;00m PubMedFetcher\n\u001b[0;32m      <a href='vscode-notebook-cell:/c%3A/Users/31613/Desktop/Git%20repositories/Programming3/Assignment1/testing_file.ipynb#ch0000004?line=2'>3</a>\u001b[0m pmids \u001b[39m=\u001b[39m [\u001b[39m2020202\u001b[39m, \u001b[39m1745076\u001b[39m, \u001b[39m2768771\u001b[39m, \u001b[39m8277124\u001b[39m, \u001b[39m4031339\u001b[39m]\n\u001b[0;32m      <a href='vscode-notebook-cell:/c%3A/Users/31613/Desktop/Git%20repositories/Programming3/Assignment1/testing_file.ipynb#ch0000004?line=3'>4</a>\u001b[0m fetch \u001b[39m=\u001b[39m PubMedFetcher()\n",
      "\u001b[1;31mModuleNotFoundError\u001b[0m: No module named 'metapub'"
     ]
    }
   ],
   "source": [
    "# doaload the first 10 papers from the list of pmid\n",
    "from metapub import PubMedFetcher\n",
    "pmids = [2020202, 1745076, 2768771, 8277124, 4031339]\n",
    "fetch = PubMedFetcher()\n",
    "\n",
    "\n",
    "title_list = []\n",
    "abstract_list = []\n",
    "for pmid in pmids:\n",
    "    article = fetch.article_by_pmid(pmid)\n",
    "    abstract = article.abstract # str\n",
    "    abstract_list.append(abstract)\n",
    "    title = article.title # str\n",
    "    title_list.append(title)"
   ]
  },
  {
   "cell_type": "code",
   "execution_count": null,
   "metadata": {},
   "outputs": [],
   "source": [
    "# write a main function to get the pmid of refrences from a single pmid"
   ]
  },
  {
   "cell_type": "code",
   "execution_count": null,
   "metadata": {},
   "outputs": [],
   "source": []
  }
 ],
 "metadata": {
  "interpreter": {
   "hash": "ad2bdc8ecc057115af97d19610ffacc2b4e99fae6737bb82f5d7fb13d2f2c186"
  },
  "kernelspec": {
   "display_name": "Python 3.8.12 ('base')",
   "language": "python",
   "name": "python3"
  },
  "language_info": {
   "codemirror_mode": {
    "name": "ipython",
    "version": 3
   },
   "file_extension": ".py",
   "mimetype": "text/x-python",
   "name": "python",
   "nbconvert_exporter": "python",
   "pygments_lexer": "ipython3",
   "version": "3.8.12"
  },
  "orig_nbformat": 4
 },
 "nbformat": 4,
 "nbformat_minor": 2
}
