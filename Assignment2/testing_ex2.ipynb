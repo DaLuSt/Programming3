{
 "cells": [
  {
   "cell_type": "code",
   "execution_count": null,
   "metadata": {},
   "outputs": [],
   "source": [
    "import multiprocessing as mp\n",
    "from multiprocessing import Process, Queue\n",
    "from Bio import Entrez\n",
    "import time\n",
    "import sys\n",
    "import os"
   ]
  },
  {
   "cell_type": "code",
   "execution_count": null,
   "metadata": {},
   "outputs": [],
   "source": [
    "def make_server_manager(port, authkey):\n",
    "    \"\"\" Create a manager for the server, listening on the given port.\n",
    "        Return a manager object with get_job_q and get_result_q methods.\n",
    "    \"\"\"\n",
    "    job_q = Queue.Queue()\n",
    "    result_q = Queue.Queue()\n",
    "\n",
    "    # This is based on the examples in the official docs of multiprocessing.\n",
    "    # get_{job|result}_q return synchronized proxies for the actual Queue\n",
    "    # objects.\n",
    "    class JobQueueManager(SyncManager):\n",
    "        pass\n",
    "\n",
    "    JobQueueManager.register('get_job_q', callable=lambda: job_q)\n",
    "    JobQueueManager.register('get_result_q', callable=lambda: result_q)\n",
    "\n",
    "    manager = JobQueueManager(address=('', port), authkey=authkey)\n",
    "    manager.start()\n",
    "    print 'Server started at port %s' % port\n",
    "    return manager"
   ]
  },
  {
   "cell_type": "code",
   "execution_count": null,
   "metadata": {},
   "outputs": [],
   "source": [
    "# function\n",
    "def make_nums(N):\n",
    "    \"\"\" Create N large numbers to factorize.\n",
    "    \"\"\"\n",
    "    nums = [999999999999]\n",
    "    for i in xrange(N):\n",
    "        nums.append(nums[-1] + 2)\n",
    "    return nums"
   ]
  },
  {
   "cell_type": "code",
   "execution_count": null,
   "metadata": {},
   "outputs": [],
   "source": [
    "def runclient():\n",
    "    manager = make_client_manager(IP, PORTNUM, AUTHKEY)\n",
    "    job_q = manager.get_job_q()\n",
    "    result_q = manager.get_result_q()\n",
    "    mp_factorizer(job_q, result_q, 4)"
   ]
  },
  {
   "cell_type": "code",
   "execution_count": null,
   "metadata": {},
   "outputs": [],
   "source": [
    "def make_client_manager(ip, port, authkey):\n",
    "    \"\"\" Create a manager for a client. This manager connects to a server on the\n",
    "        given address and exposes the get_job_q and get_result_q methods for\n",
    "        accessing the shared queues from the server.\n",
    "        Return a manager object.\n",
    "    \"\"\"\n",
    "    class ServerQueueManager(SyncManager):\n",
    "        pass\n",
    "\n",
    "    ServerQueueManager.register('get_job_q')\n",
    "    ServerQueueManager.register('get_result_q')\n",
    "\n",
    "    manager = ServerQueueManager(address=(ip, port), authkey=authkey)\n",
    "    manager.connect()\n",
    "\n",
    "    print 'Client connected to %s:%s' % (ip, port)\n",
    "    return manager"
   ]
  },
  {
   "cell_type": "code",
   "execution_count": null,
   "metadata": {},
   "outputs": [],
   "source": []
  },
  {
   "cell_type": "code",
   "execution_count": null,
   "metadata": {},
   "outputs": [],
   "source": []
  },
  {
   "cell_type": "code",
   "execution_count": null,
   "metadata": {},
   "outputs": [],
   "source": []
  },
  {
   "cell_type": "code",
   "execution_count": null,
   "metadata": {},
   "outputs": [],
   "source": []
  },
  {
   "cell_type": "code",
   "execution_count": null,
   "metadata": {},
   "outputs": [],
   "source": []
  },
  {
   "cell_type": "code",
   "execution_count": null,
   "metadata": {},
   "outputs": [],
   "source": []
  },
  {
   "cell_type": "code",
   "execution_count": null,
   "metadata": {},
   "outputs": [],
   "source": []
  },
  {
   "cell_type": "code",
   "execution_count": null,
   "metadata": {},
   "outputs": [],
   "source": []
  },
  {
   "cell_type": "code",
   "execution_count": null,
   "metadata": {},
   "outputs": [],
   "source": []
  }
 ],
 "metadata": {
  "language_info": {
   "name": "python"
  },
  "orig_nbformat": 4
 },
 "nbformat": 4,
 "nbformat_minor": 2
}
