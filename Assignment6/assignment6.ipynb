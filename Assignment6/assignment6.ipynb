{
 "cells": [
  {
   "cell_type": "code",
   "execution_count": 1,
   "metadata": {},
   "outputs": [],
   "source": [
    "# import libaries\n",
    "from pyspark.sql.session import SparkSession\n",
    "from pyspark.sql.functions import *\n",
    "from pyspark.sql.types import StructType, StructField, IntegerType, StringType,FloatType\n",
    "import pyspark.sql.functions as f\n",
    "import pandas as pd\n",
    "import numpy as np\n",
    "import matplotlib.pyplot as plt\n",
    "import os\n",
    "\n",
    "\n",
    "from sklearn.preprocessing import OneHotEncoder\n",
    "from sklearn.compose import make_column_transformer\n",
    "from sklearn.feature_extraction.text import CountVectorizer\n",
    "\n"
   ]
  },
  {
   "cell_type": "code",
   "execution_count": 4,
   "metadata": {},
   "outputs": [
    {
     "name": "stdout",
     "output_type": "stream",
     "text": [
      "Creating output folder\n",
      "Starting session\n"
     ]
    },
    {
     "name": "stderr",
     "output_type": "stream",
     "text": [
      "WARNING: An illegal reflective access operation has occurred\n",
      "WARNING: Illegal reflective access by org.apache.spark.unsafe.Platform (file:/commons/conda/lib/python3.8/site-packages/pyspark/jars/spark-unsafe_2.12-3.1.2.jar) to constructor java.nio.DirectByteBuffer(long,int)\n",
      "WARNING: Please consider reporting this to the maintainers of org.apache.spark.unsafe.Platform\n",
      "WARNING: Use --illegal-access=warn to enable warnings of further illegal reflective access operations\n",
      "WARNING: All illegal access operations will be denied in a future release\n",
      "22/07/08 13:30:02 WARN NativeCodeLoader: Unable to load native-hadoop library for your platform... using builtin-java classes where applicable\n",
      "Using Spark's default log4j profile: org/apache/spark/log4j-defaults.properties\n",
      "Setting default log level to \"WARN\".\n",
      "To adjust logging level use sc.setLogLevel(newLevel). For SparkR, use setLogLevel(newLevel).\n",
      "22/07/08 13:30:04 WARN Utils: Service 'SparkUI' could not bind on port 4040. Attempting port 4041.\n",
      "22/07/08 13:30:04 WARN Utils: Service 'SparkUI' could not bind on port 4041. Attempting port 4042.\n"
     ]
    },
    {
     "name": "stdout",
     "output_type": "stream",
     "text": [
      "Loading in file\n",
      "File loaded\n",
      "root\n",
      " |-- Protein_accession: string (nullable = true)\n",
      " |-- Sequence_MD5_digest: string (nullable = true)\n",
      " |-- Sequence_length: integer (nullable = true)\n",
      " |-- Analysis: string (nullable = true)\n",
      " |-- Signature_accession: string (nullable = true)\n",
      " |-- Signature_description: string (nullable = true)\n",
      " |-- Start_location: integer (nullable = true)\n",
      " |-- Stop_location: integer (nullable = true)\n",
      " |-- Score: float (nullable = true)\n",
      " |-- Status: string (nullable = true)\n",
      " |-- Date: string (nullable = true)\n",
      " |-- InterPro_annotations_accession: string (nullable = true)\n",
      " |-- InterPro_annotations_description: string (nullable = true)\n",
      " |-- GO_annotations: string (nullable = true)\n",
      " |-- Pathways_annotations: string (nullable = true)\n",
      "\n"
     ]
    }
   ],
   "source": [
    "class PSTool:\n",
    "    def __init__(self):\n",
    "        print('Creating output folder')\n",
    "        if os.path.exists('output'):\n",
    "            pass\n",
    "        else:\n",
    "            os.makedirs('output')\n",
    "\n",
    "    def pyspark_session(self, host_location):\n",
    "        \"\"\"\n",
    "        Creates and returns spark session object\n",
    "        \"\"\"\n",
    "        print('Starting session')\n",
    "        sc = SparkContext(host_location)  # Create spark context\n",
    "        spark = SparkSession(sc)  # Create session\n",
    "        return spark\n",
    "\n",
    "    def file_loader(self, path, delim, spark_obj, schema):\n",
    "        print('Loading in file')\n",
    "        data = spark_obj.read.options(delimiter=delim).option(\"header\",\"False\").csv(path, schema=schema)\n",
    "        \n",
    "        print('File loaded')\n",
    "        return data\n",
    "\n",
    "    def get_questions(self, df):\n",
    "        pass\n",
    "\n",
    "if __name__ == \"__main__\":\n",
    "    pstool = PSTool()  # Instanciate object\n",
    "    spk = pstool.pyspark_session('local[16]')  # start session\n",
    "    # load data\n",
    "    path = '/data/dataprocessing/interproscan/all_bacilli.tsv'\n",
    "    # path = 'all_bacilli_subset.tsv'\n",
    "    schema = StructType([\n",
    "        StructField(\"Protein_accession\", StringType(), True),\n",
    "        StructField(\"Sequence_MD5_digest\", StringType(), True),\n",
    "        StructField(\"Sequence_length\", IntegerType(), True),\n",
    "        StructField(\"Analysis\", StringType(), True),\n",
    "        StructField(\"Signature_accession\", StringType(), True),\n",
    "        StructField(\"Signature_description\", StringType(), True),\n",
    "        StructField(\"Start_location\", IntegerType(), True),\n",
    "        StructField(\"Stop_location\", IntegerType(), True),\n",
    "        StructField(\"Score\", FloatType(), True),\n",
    "        StructField(\"Status\", StringType(), True),\n",
    "        StructField(\"Date\", StringType(), True),\n",
    "        StructField(\"InterPro_annotations_accession\", StringType(), True),\n",
    "        StructField(\"InterPro_annotations_description\", StringType(), True),\n",
    "        StructField(\"GO_annotations\", StringType(), True),\n",
    "        StructField(\"Pathways_annotations\", StringType(), True)])\n",
    "    \n",
    "    df = pstool.file_loader(path, '\\t', spk, schema)\n",
    "#     pstool.get_questions(df)\n",
    "#     print('Closing spark session')\n",
    "#     spk.sparkContext.stop()\n",
    "    df.printSchema()  # Shows column names and some info"
   ]
  },
  {
   "cell_type": "markdown",
   "metadata": {},
   "source": [
    "### Data cleaning\n",
    "The \"function\" of the protein which is the \"class\" your model should predict is defined as the InterPRO number which covers:\n",
    "- \">\" 90% of the protein's sequenc\n",
    "- Covers the largest length of the sequence\n",
    "\n",
    "As we are to train on the interpro number:\n",
    "- Remove any rows without interpro number\n"
   ]
  },
  {
   "cell_type": "code",
   "execution_count": 6,
   "metadata": {},
   "outputs": [
    {
     "name": "stderr",
     "output_type": "stream",
     "text": [
      "                                                                                \r"
     ]
    },
    {
     "name": "stdout",
     "output_type": "stream",
     "text": [
      "9704\n"
     ]
    },
    {
     "name": "stderr",
     "output_type": "stream",
     "text": [
      "                                                                                \r"
     ]
    },
    {
     "name": "stdout",
     "output_type": "stream",
     "text": [
      "9703\n",
      "len: 15\n"
     ]
    },
    {
     "name": "stderr",
     "output_type": "stream",
     "text": [
      "                                                                                \r"
     ]
    },
    {
     "name": "stdout",
     "output_type": "stream",
     "text": [
      "count: 4200591\n"
     ]
    },
    {
     "name": "stderr",
     "output_type": "stream",
     "text": [
      "                                                                                \r"
     ]
    },
    {
     "name": "stdout",
     "output_type": "stream",
     "text": [
      "+--------------------+\n",
      "|   Protein_accession|\n",
      "+--------------------+\n",
      "|gi|510143242|gb|A...|\n",
      "|gi|510143242|gb|A...|\n",
      "|gi|510143242|gb|A...|\n",
      "|gi|510143242|gb|A...|\n",
      "|gi|510143242|gb|A...|\n",
      "+--------------------+\n",
      "only showing top 5 rows\n",
      "\n",
      "None\n"
     ]
    },
    {
     "name": "stderr",
     "output_type": "stream",
     "text": [
      "                                                                                \r"
     ]
    },
    {
     "name": "stdout",
     "output_type": "stream",
     "text": [
      "+--------------------+\n",
      "| Sequence_MD5_digest|\n",
      "+--------------------+\n",
      "|d6f8e49a4de47c68d...|\n",
      "|d6f8e49a4de47c68d...|\n",
      "|d6f8e49a4de47c68d...|\n",
      "|d6f8e49a4de47c68d...|\n",
      "|d6f8e49a4de47c68d...|\n",
      "+--------------------+\n",
      "only showing top 5 rows\n",
      "\n",
      "None\n"
     ]
    },
    {
     "name": "stderr",
     "output_type": "stream",
     "text": [
      "                                                                                \r"
     ]
    },
    {
     "name": "stdout",
     "output_type": "stream",
     "text": [
      "+---------------+\n",
      "|Sequence_length|\n",
      "+---------------+\n",
      "|           6359|\n",
      "|           6359|\n",
      "|           6359|\n",
      "|           6359|\n",
      "|           6359|\n",
      "+---------------+\n",
      "only showing top 5 rows\n",
      "\n",
      "None\n"
     ]
    },
    {
     "name": "stderr",
     "output_type": "stream",
     "text": [
      "                                                                                \r"
     ]
    },
    {
     "name": "stdout",
     "output_type": "stream",
     "text": [
      "+---------------+\n",
      "|       Analysis|\n",
      "+---------------+\n",
      "|ProSitePatterns|\n",
      "|ProSitePatterns|\n",
      "|ProSitePatterns|\n",
      "|ProSitePatterns|\n",
      "|ProSitePatterns|\n",
      "+---------------+\n",
      "only showing top 5 rows\n",
      "\n",
      "None\n"
     ]
    },
    {
     "name": "stderr",
     "output_type": "stream",
     "text": [
      "                                                                                \r"
     ]
    },
    {
     "name": "stdout",
     "output_type": "stream",
     "text": [
      "+-------------------+\n",
      "|Signature_accession|\n",
      "+-------------------+\n",
      "|            PS00455|\n",
      "|            PS00455|\n",
      "|            PS00455|\n",
      "|            PS00455|\n",
      "|            PS00455|\n",
      "+-------------------+\n",
      "only showing top 5 rows\n",
      "\n",
      "None\n"
     ]
    },
    {
     "name": "stderr",
     "output_type": "stream",
     "text": [
      "                                                                                \r"
     ]
    },
    {
     "name": "stdout",
     "output_type": "stream",
     "text": [
      "+---------------------+\n",
      "|Signature_description|\n",
      "+---------------------+\n",
      "| Putative AMP-bind...|\n",
      "| Putative AMP-bind...|\n",
      "| Putative AMP-bind...|\n",
      "| Putative AMP-bind...|\n",
      "| Putative AMP-bind...|\n",
      "+---------------------+\n",
      "only showing top 5 rows\n",
      "\n",
      "None\n"
     ]
    },
    {
     "name": "stderr",
     "output_type": "stream",
     "text": [
      "                                                                                \r"
     ]
    },
    {
     "name": "stdout",
     "output_type": "stream",
     "text": [
      "+--------------+\n",
      "|Start_location|\n",
      "+--------------+\n",
      "|           604|\n",
      "|          5690|\n",
      "|          4177|\n",
      "|          1645|\n",
      "|          3144|\n",
      "+--------------+\n",
      "only showing top 5 rows\n",
      "\n",
      "None\n"
     ]
    },
    {
     "name": "stderr",
     "output_type": "stream",
     "text": [
      "                                                                                \r"
     ]
    },
    {
     "name": "stdout",
     "output_type": "stream",
     "text": [
      "+-------------+\n",
      "|Stop_location|\n",
      "+-------------+\n",
      "|          615|\n",
      "|         1656|\n",
      "|         4188|\n",
      "|         5701|\n",
      "|         3155|\n",
      "+-------------+\n",
      "only showing top 5 rows\n",
      "\n",
      "None\n"
     ]
    },
    {
     "name": "stderr",
     "output_type": "stream",
     "text": [
      "                                                                                \r"
     ]
    },
    {
     "name": "stdout",
     "output_type": "stream",
     "text": [
      "+-----+\n",
      "|Score|\n",
      "+-----+\n",
      "| null|\n",
      "| null|\n",
      "| null|\n",
      "| null|\n",
      "| null|\n",
      "+-----+\n",
      "only showing top 5 rows\n",
      "\n",
      "None\n"
     ]
    },
    {
     "name": "stderr",
     "output_type": "stream",
     "text": [
      "                                                                                \r"
     ]
    },
    {
     "name": "stdout",
     "output_type": "stream",
     "text": [
      "+------+\n",
      "|Status|\n",
      "+------+\n",
      "|     T|\n",
      "|     T|\n",
      "|     T|\n",
      "|     T|\n",
      "|     T|\n",
      "+------+\n",
      "only showing top 5 rows\n",
      "\n",
      "None\n"
     ]
    },
    {
     "name": "stderr",
     "output_type": "stream",
     "text": [
      "                                                                                \r"
     ]
    },
    {
     "name": "stdout",
     "output_type": "stream",
     "text": [
      "+----------+\n",
      "|      Date|\n",
      "+----------+\n",
      "|25-04-2022|\n",
      "|25-04-2022|\n",
      "|25-04-2022|\n",
      "|25-04-2022|\n",
      "|25-04-2022|\n",
      "+----------+\n",
      "only showing top 5 rows\n",
      "\n",
      "None\n"
     ]
    },
    {
     "name": "stderr",
     "output_type": "stream",
     "text": [
      "                                                                                \r"
     ]
    },
    {
     "name": "stdout",
     "output_type": "stream",
     "text": [
      "+------------------------------+\n",
      "|InterPro_annotations_accession|\n",
      "+------------------------------+\n",
      "|                     IPR020845|\n",
      "|                     IPR020845|\n",
      "|                     IPR020845|\n",
      "|                     IPR020845|\n",
      "|                     IPR020845|\n",
      "+------------------------------+\n",
      "only showing top 5 rows\n",
      "\n",
      "None\n"
     ]
    },
    {
     "name": "stderr",
     "output_type": "stream",
     "text": [
      "                                                                                \r"
     ]
    },
    {
     "name": "stdout",
     "output_type": "stream",
     "text": [
      "+--------------------------------+\n",
      "|InterPro_annotations_description|\n",
      "+--------------------------------+\n",
      "|            AMP-binding, cons...|\n",
      "|            AMP-binding, cons...|\n",
      "|            AMP-binding, cons...|\n",
      "|            AMP-binding, cons...|\n",
      "|            AMP-binding, cons...|\n",
      "+--------------------------------+\n",
      "only showing top 5 rows\n",
      "\n",
      "None\n"
     ]
    },
    {
     "name": "stderr",
     "output_type": "stream",
     "text": [
      "                                                                                \r"
     ]
    },
    {
     "name": "stdout",
     "output_type": "stream",
     "text": [
      "+--------------+\n",
      "|GO_annotations|\n",
      "+--------------+\n",
      "|             -|\n",
      "|             -|\n",
      "|             -|\n",
      "|             -|\n",
      "|             -|\n",
      "+--------------+\n",
      "only showing top 5 rows\n",
      "\n",
      "None\n"
     ]
    },
    {
     "name": "stderr",
     "output_type": "stream",
     "text": [
      "                                                                                \r"
     ]
    },
    {
     "name": "stdout",
     "output_type": "stream",
     "text": [
      "+--------------------+\n",
      "|Pathways_annotations|\n",
      "+--------------------+\n",
      "|MetaCyc: PWY-1061...|\n",
      "|MetaCyc: PWY-1061...|\n",
      "|MetaCyc: PWY-1061...|\n",
      "|MetaCyc: PWY-1061...|\n",
      "|MetaCyc: PWY-1061...|\n",
      "+--------------------+\n",
      "only showing top 5 rows\n",
      "\n",
      "None\n"
     ]
    },
    {
     "name": "stderr",
     "output_type": "stream",
     "text": [
      "[Stage 25:=======================================================>(83 + 1) / 84]\r"
     ]
    },
    {
     "name": "stdout",
     "output_type": "stream",
     "text": [
      "+--------------------+\n",
      "|                perc|\n",
      "+--------------------+\n",
      "|0.001729831734549...|\n",
      "|0.001729831734549...|\n",
      "|0.001729831734549...|\n",
      "|0.001729831734549...|\n",
      "|0.001729831734549...|\n",
      "+--------------------+\n",
      "only showing top 5 rows\n",
      "\n",
      "None\n"
     ]
    },
    {
     "name": "stderr",
     "output_type": "stream",
     "text": [
      "                                                                                \r"
     ]
    }
   ],
   "source": [
    "# remove rows that do not have Interpro number\n",
    "print(df.select('InterPro_annotations_accession').distinct().count())\n",
    "IPRO_filt = df.filter(df[\"InterPro_annotations_accession\"] != '-')\n",
    "print(IPRO_filt.select('InterPro_annotations_accession').distinct().count())\n",
    "\n",
    "# check amount of rows left. \n",
    "print('len:', len(df.columns))\n",
    "print('count:' , df.count())\n",
    "# check if the columns are propperly loaded in. \n",
    "df_sizes = IPRO_filt.withColumn('perc', abs(df.Start_location - df.Stop_location) / df.Sequence_length).sort('perc')\n",
    "for i in df_sizes.columns:\n",
    "    print(df_sizes.select(i).show(5))\n",
    "\n"
   ]
  },
  {
   "cell_type": "markdown",
   "metadata": {},
   "source": [
    "### modeling"
   ]
  },
  {
   "cell_type": "code",
   "execution_count": 5,
   "metadata": {},
   "outputs": [
    {
     "name": "stdout",
     "output_type": "stream",
     "text": [
      "['InterPro_annotations_accession']\n"
     ]
    },
    {
     "ename": "TypeError",
     "evalue": "unexpected item type: <class 'slice'>",
     "output_type": "error",
     "traceback": [
      "\u001b[0;31m---------------------------------------------------------------------------\u001b[0m",
      "\u001b[0;31mTypeError\u001b[0m                                 Traceback (most recent call last)",
      "\u001b[0;32m/tmp/ipykernel_4153970/3903607809.py\u001b[0m in \u001b[0;36m<module>\u001b[0;34m\u001b[0m\n\u001b[1;32m      6\u001b[0m \u001b[0;34m\u001b[0m\u001b[0m\n\u001b[1;32m      7\u001b[0m \u001b[0mprint\u001b[0m\u001b[0;34m(\u001b[0m\u001b[0mlabel_names\u001b[0m\u001b[0;34m)\u001b[0m\u001b[0;34m\u001b[0m\u001b[0;34m\u001b[0m\u001b[0m\n\u001b[0;32m----> 8\u001b[0;31m \u001b[0mprint\u001b[0m\u001b[0;34m(\u001b[0m\u001b[0mlabels\u001b[0m\u001b[0;34m[\u001b[0m\u001b[0;34m:\u001b[0m\u001b[0;36m5\u001b[0m\u001b[0;34m]\u001b[0m\u001b[0;34m)\u001b[0m\u001b[0;34m\u001b[0m\u001b[0;34m\u001b[0m\u001b[0m\n\u001b[0m\u001b[1;32m      9\u001b[0m \u001b[0mprint\u001b[0m\u001b[0;34m(\u001b[0m\u001b[0mfeature_names\u001b[0m\u001b[0;34m[\u001b[0m\u001b[0;34m:\u001b[0m\u001b[0;36m5\u001b[0m\u001b[0;34m]\u001b[0m\u001b[0;34m)\u001b[0m\u001b[0;34m\u001b[0m\u001b[0;34m\u001b[0m\u001b[0m\n\u001b[1;32m     10\u001b[0m \u001b[0mprint\u001b[0m\u001b[0;34m(\u001b[0m\u001b[0mfeatures\u001b[0m\u001b[0;34m[\u001b[0m\u001b[0;34m:\u001b[0m\u001b[0;36m5\u001b[0m\u001b[0;34m]\u001b[0m\u001b[0;34m)\u001b[0m\u001b[0;34m\u001b[0m\u001b[0;34m\u001b[0m\u001b[0m\n",
      "\u001b[0;32m/commons/conda/lib/python3.8/site-packages/pyspark/sql/dataframe.py\u001b[0m in \u001b[0;36m__getitem__\u001b[0;34m(self, item)\u001b[0m\n\u001b[1;32m   1628\u001b[0m             \u001b[0;32mreturn\u001b[0m \u001b[0mColumn\u001b[0m\u001b[0;34m(\u001b[0m\u001b[0mjc\u001b[0m\u001b[0;34m)\u001b[0m\u001b[0;34m\u001b[0m\u001b[0;34m\u001b[0m\u001b[0m\n\u001b[1;32m   1629\u001b[0m         \u001b[0;32melse\u001b[0m\u001b[0;34m:\u001b[0m\u001b[0;34m\u001b[0m\u001b[0;34m\u001b[0m\u001b[0m\n\u001b[0;32m-> 1630\u001b[0;31m             \u001b[0;32mraise\u001b[0m \u001b[0mTypeError\u001b[0m\u001b[0;34m(\u001b[0m\u001b[0;34m\"unexpected item type: %s\"\u001b[0m \u001b[0;34m%\u001b[0m \u001b[0mtype\u001b[0m\u001b[0;34m(\u001b[0m\u001b[0mitem\u001b[0m\u001b[0;34m)\u001b[0m\u001b[0;34m)\u001b[0m\u001b[0;34m\u001b[0m\u001b[0;34m\u001b[0m\u001b[0m\n\u001b[0m\u001b[1;32m   1631\u001b[0m \u001b[0;34m\u001b[0m\u001b[0m\n\u001b[1;32m   1632\u001b[0m     \u001b[0;32mdef\u001b[0m \u001b[0m__getattr__\u001b[0m\u001b[0;34m(\u001b[0m\u001b[0mself\u001b[0m\u001b[0;34m,\u001b[0m \u001b[0mname\u001b[0m\u001b[0;34m)\u001b[0m\u001b[0;34m:\u001b[0m\u001b[0;34m\u001b[0m\u001b[0;34m\u001b[0m\u001b[0m\n",
      "\u001b[0;31mTypeError\u001b[0m: unexpected item type: <class 'slice'>"
     ]
    }
   ],
   "source": [
    "# Organize data into labels for easier use\n",
    "label_names = [\"InterPro_annotations_accession\"]\n",
    "labels = IPRO_filt.select(label_names)\n",
    "feature_names = [i for i in IPRO_filt.columns if i not in label_names]\n",
    "features = IPRO_filt.select(feature_names)\n",
    "\n",
    "print(label_names)\n",
    "print(labels[:5])\n",
    "print(feature_names[:5])\n",
    "print(features[:5])\n",
    "\n",
    "train, test, train_labels, test_labels = train_test_split(features, labels, test_size=0.2, random_state=42)"
   ]
  },
  {
   "cell_type": "code",
   "execution_count": null,
   "metadata": {},
   "outputs": [],
   "source": [
    "# get a list of models to evaluate\n",
    "\n",
    "def get_models():\n",
    "\tmodels = {'lr': LogisticRegression()}\n",
    "\tmodels['knn'] = KNeighborsClassifier()\n",
    "\tmodels['cart'] = DecisionTreeClassifier()\n",
    "\tmodels['svm'] = SVC()\n",
    "\tmodels['bayes'] = GaussianNB()\n",
    "\treturn models\n",
    " \n",
    "# evaluate a given model using cross-validation\n",
    "def evaluate_model(model, X, y):\n",
    "\tcv = RepeatedStratifiedKFold(n_splits=10, n_repeats=3, random_state=42)\n",
    "\treturn cross_val_score(\n",
    "\t    model, X, y, scoring='accuracy', cv=cv, n_jobs=-1, error_score='raise')\n",
    " \n",
    "# define dataset\n",
    "X = train\n",
    "y = train_labels\n",
    "\n",
    "# get the models to evaluate\n",
    "models = get_models()\n",
    "# evaluate the models and store results\n",
    "results, names = list(), list()\n",
    "for name, model in models.items():\n",
    "\tscores = evaluate_model(model, X, y)\n",
    "\tresults.append(scores)\n",
    "\tnames.append(name)\n",
    "\tprint('model %s accuracy: %.3f (%.3f)' % (name, np.mean(scores), np.std(scores)))\n",
    "# plot model performance for comparison\n",
    "pyplot.boxplot(results, labels=names, showmeans=True)\n",
    "pyplot.show()"
   ]
  },
  {
   "cell_type": "code",
   "execution_count": null,
   "metadata": {},
   "outputs": [],
   "source": [
    "# model evaluation\n",
    "bayes = GaussianNB()\n",
    "model = bayes.fit(train, train_labels)\n",
    "preds = bayes.predict(test)\n",
    "\n",
    "print(f\"accuracy: {accuracy_score(test_labels, preds)}\")\n",
    "cf_matrix = confusion_matrix(test_labels, preds)\n",
    "# print(confusion_matrix)\n",
    "# turn confusion matrix into percentages\n",
    "df_cm = cf_matrix.astype('float') / cf_matrix.sum(axis=1)[:, np.newaxis] \n",
    "plt.figure()\n",
    "heatmap = sns.heatmap(df_cm, cmap=\"Blues\", annot=True)\n",
    "plt.ylabel('True label')\n",
    "plt.xlabel('Predicted label')\n",
    "plt.title('Naive base Model Results in confusion matrix')\n",
    "plt.show()  \n",
    "\n",
    "print(classification_report(test_labels, preds))"
   ]
  },
  {
   "cell_type": "code",
   "execution_count": null,
   "metadata": {},
   "outputs": [],
   "source": [
    "# closing the spark sessison\n",
    "\n",
    "print('Closing spark session')\n",
    "spk.sparkContext.stop()"
   ]
  }
 ],
 "metadata": {
  "kernelspec": {
   "display_name": "base",
   "language": "python",
   "name": "python3"
  },
  "language_info": {
   "codemirror_mode": {
    "name": "ipython",
    "version": 3
   },
   "file_extension": ".py",
   "mimetype": "text/x-python",
   "name": "python",
   "nbconvert_exporter": "python",
   "pygments_lexer": "ipython3",
   "version": "3.9.13"
  },
  "orig_nbformat": 4,
  "vscode": {
   "interpreter": {
    "hash": "485f6e6640557d45f29956b0d574060939044db058f805100f7096fc920bb713"
   }
  }
 },
 "nbformat": 4,
 "nbformat_minor": 2
}
