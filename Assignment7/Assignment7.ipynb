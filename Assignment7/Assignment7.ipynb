{
 "cells": [
  {
   "cell_type": "markdown",
   "metadata": {},
   "source": [
    "Replacement Assignment for Daan Steur\n",
    "\n",
    "Assignment\n",
    "You will need to parse one of the PubMed XML files located in the /data/datasets/NCBI/PubMed/ directory. They contain all the information about articles published in a particular time period.\n",
    "\n",
    "the script\n",
    "I would like you to write a script that;\n",
    "\n",
    "Parses a PubMed XML file into a PySpark dataframe.\n",
    "The dataframe should contain the following information in the columns;\n",
    "\n",
    "- PubMed ID\n",
    "- First Author\n",
    "- Last Author\n",
    "- Year published\n",
    "- Title\n",
    "- Journal Title\n",
    "- Length of Abstract (if Abstract text is present).\n",
    "\n",
    "A column of references in a list variable, if references are present for the article.\n",
    "When you have the table, please use PySpark functions to compute:\n",
    "\n",
    "- Number of articles per First Author\n",
    "- Number of articles per Year\n",
    "- Minimum, maximum, Average length of an abstract\n",
    "- Average Number of articles per Journal Title per Year"
   ]
  },
  {
   "cell_type": "code",
   "execution_count": null,
   "metadata": {
    "vscode": {
     "languageId": "plaintext"
    }
   },
   "outputs": [],
   "source": []
  },
  {
   "cell_type": "code",
   "execution_count": null,
   "metadata": {
    "vscode": {
     "languageId": "plaintext"
    }
   },
   "outputs": [],
   "source": []
  },
  {
   "cell_type": "code",
   "execution_count": null,
   "metadata": {
    "vscode": {
     "languageId": "plaintext"
    }
   },
   "outputs": [],
   "source": []
  }
 ],
 "metadata": {
  "language_info": {
   "name": "python"
  },
  "orig_nbformat": 4
 },
 "nbformat": 4,
 "nbformat_minor": 2
}
